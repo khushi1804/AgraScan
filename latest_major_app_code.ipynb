{
  "cells": [
    {
      "cell_type": "markdown",
      "metadata": {
        "id": "view-in-github",
        "colab_type": "text"
      },
      "source": [
        "<a href=\"https://colab.research.google.com/github/khushi1804/AgraScan/blob/main/latest_major_app_code.ipynb\" target=\"_parent\"><img src=\"https://colab.research.google.com/assets/colab-badge.svg\" alt=\"Open In Colab\"/></a>"
      ]
    },
    {
      "cell_type": "code",
      "execution_count": null,
      "metadata": {
        "id": "yhj71RCV3k9Q"
      },
      "outputs": [],
      "source": [
        "! pip install streamlit -q"
      ]
    },
    {
      "cell_type": "code",
      "execution_count": null,
      "metadata": {
        "colab": {
          "base_uri": "https://localhost:8080/"
        },
        "id": "G9UQyppK3vOc",
        "outputId": "2f9d3dc6-ae63-4a16-dad8-6b5577f12b5a"
      },
      "outputs": [
        {
          "name": "stdout",
          "output_type": "stream",
          "text": [
            "Requirement already satisfied: pyngrok in /usr/local/lib/python3.11/dist-packages (7.2.3)\n",
            "Requirement already satisfied: PyYAML>=5.1 in /usr/local/lib/python3.11/dist-packages (from pyngrok) (6.0.2)\n"
          ]
        }
      ],
      "source": [
        "! pip install pyngrok"
      ]
    },
    {
      "cell_type": "code",
      "execution_count": null,
      "metadata": {
        "id": "skQ0AweJ37de"
      },
      "outputs": [],
      "source": [
        "from pyngrok import ngrok"
      ]
    },
    {
      "cell_type": "code",
      "execution_count": null,
      "metadata": {
        "id": "4P7OugpT39sS"
      },
      "outputs": [],
      "source": [
        "ngrok.set_auth_token(\"2fjzq0eJRCT1JPXqInc2ixynB1r_6wEJ2mYje9usuT18SNMa5\")"
      ]
    },
    {
      "cell_type": "code",
      "execution_count": null,
      "metadata": {
        "colab": {
          "base_uri": "https://localhost:8080/"
        },
        "id": "QyWCla0n8aTw",
        "outputId": "3157b713-de8f-40ef-d2d1-90f3ce962ba4"
      },
      "outputs": [
        {
          "name": "stdout",
          "output_type": "stream",
          "text": [
            "New tunnel URL: https://9b9c-34-169-22-164.ngrok-free.app\n"
          ]
        }
      ],
      "source": [
        "from pyngrok import ngrok\n",
        "\n",
        "# Check the number of active tunnels\n",
        "active_tunnels = ngrok.get_tunnels()\n",
        "\n",
        "if len(active_tunnels) >= 3:\n",
        "    print(\"Cannot start a new tunnel, maximum limit reached.\")\n",
        "    # Optionally, close one of the active tunnels\n",
        "    ngrok.disconnect(active_tunnels[0].public_url)\n",
        "else:\n",
        "    # Start a new tunnel\n",
        "    http_tunnel = ngrok.connect(5000)\n",
        "    print(f\"New tunnel URL: {http_tunnel.public_url}\")\n"
      ]
    },
    {
      "cell_type": "code",
      "execution_count": null,
      "metadata": {
        "colab": {
          "base_uri": "https://localhost:8080/"
        },
        "id": "nL4RnCPG8tlg",
        "outputId": "d970e5c7-4cd0-40d5-f014-5dbb4da08f08"
      },
      "outputs": [
        {
          "name": "stderr",
          "output_type": "stream",
          "text": [
            "WARNING:pyngrok.process.ngrok:t=2025-01-23T17:55:27+0000 lvl=warn msg=\"Stopping forwarder\" name=http-5000-9473f3a2-0b2a-4280-a6b6-e44794ca0bcf acceptErr=\"failed to accept connection: Listener closed\"\n"
          ]
        },
        {
          "name": "stdout",
          "output_type": "stream",
          "text": [
            "Closing tunnel: https://9b9c-34-169-22-164.ngrok-free.app\n",
            "All active tunnels have been closed.\n"
          ]
        }
      ],
      "source": [
        "from pyngrok import ngrok\n",
        "\n",
        "# Get a list of all active tunnels\n",
        "active_tunnels = ngrok.get_tunnels()\n",
        "\n",
        "# Iterate through the list and close each tunnel\n",
        "for tunnel in active_tunnels:\n",
        "    print(f\"Closing tunnel: {tunnel.public_url}\")\n",
        "    ngrok.disconnect(tunnel.public_url)\n",
        "\n",
        "print(\"All active tunnels have been closed.\")\n"
      ]
    },
    {
      "cell_type": "code",
      "execution_count": null,
      "metadata": {
        "colab": {
          "base_uri": "https://localhost:8080/"
        },
        "id": "BfjFswlYNAHx",
        "outputId": "bc44406d-64e1-46d3-a495-2fa6cc86f61b"
      },
      "outputs": [
        {
          "name": "stdout",
          "output_type": "stream",
          "text": [
            "All ngrok tunnels have been stopped.\n"
          ]
        }
      ],
      "source": [
        "from pyngrok import ngrok\n",
        "\n",
        "# Kill all active ngrok tunnels\n",
        "ngrok.kill()\n",
        "print(\"All ngrok tunnels have been stopped.\")\n"
      ]
    },
    {
      "cell_type": "code",
      "execution_count": null,
      "metadata": {
        "colab": {
          "base_uri": "https://localhost:8080/"
        },
        "id": "CqL3uDY94BBg",
        "outputId": "8a04f848-032d-4702-c0b0-36a0722658d4"
      },
      "outputs": [
        {
          "name": "stdout",
          "output_type": "stream",
          "text": [
            "Public URL: NgrokTunnel: \"https://f7a3-34-169-22-164.ngrok-free.app\" -> \"http://localhost:8501\"\n"
          ]
        }
      ],
      "source": [
        "public_url = ngrok.connect(8501)  # Expose port 8501 (Streamlit default port)\n",
        "print(f\"Public URL: {public_url}\")\n",
        "\n"
      ]
    },
    {
      "cell_type": "code",
      "execution_count": null,
      "metadata": {
        "id": "xUvEv9nT3-ed"
      },
      "outputs": [],
      "source": [
        "!streamlit run app.py &>/dev/null &"
      ]
    },
    {
      "cell_type": "code",
      "execution_count": null,
      "metadata": {
        "colab": {
          "base_uri": "https://localhost:8080/"
        },
        "id": "GZmw2sGTOFpe",
        "outputId": "4cb2a51d-723b-42aa-b6fe-d41272ba0cb0"
      },
      "outputs": [
        {
          "name": "stdout",
          "output_type": "stream",
          "text": [
            "root        1621  0.0  0.0   6484  2252 ?        S    17:55   0:00 grep streamlit\n"
          ]
        }
      ],
      "source": [
        "!ps -aux | grep streamlit\n"
      ]
    },
    {
      "cell_type": "code",
      "execution_count": null,
      "metadata": {
        "colab": {
          "base_uri": "https://localhost:8080/"
        },
        "id": "NvKj1MqJOeGv",
        "outputId": "ce2e9111-d4cb-4b52-8edb-e9cdc78bf3fd"
      },
      "outputs": [
        {
          "name": "stdout",
          "output_type": "stream",
          "text": [
            "cat: /root/.streamlit/streamlit.log: No such file or directory\n"
          ]
        }
      ],
      "source": [
        "!cat ~/.streamlit/streamlit.log\n"
      ]
    },
    {
      "cell_type": "code",
      "execution_count": null,
      "metadata": {
        "colab": {
          "base_uri": "https://localhost:8080/"
        },
        "id": "WpxBwYTQOOW_",
        "outputId": "0d07461d-87a6-4572-97d0-26fc9fe04e91"
      },
      "outputs": [
        {
          "name": "stdout",
          "output_type": "stream",
          "text": [
            "curl: (7) Failed to connect to localhost port 8501 after 0 ms: Connection refused\n"
          ]
        }
      ],
      "source": [
        "!curl http://localhost:8501\n"
      ]
    },
    {
      "cell_type": "code",
      "execution_count": null,
      "metadata": {
        "colab": {
          "background_save": true,
          "base_uri": "https://localhost:8080/"
        },
        "id": "-jucL5CATsbo",
        "outputId": "1e87dcab-5592-4896-f522-5563096468ac"
      },
      "outputs": [
        {
          "name": "stdout",
          "output_type": "stream",
          "text": [
            "\n",
            "Collecting usage statistics. To deactivate, set browser.gatherUsageStats to false.\n",
            "\u001b[0m\n",
            "\u001b[0m\n",
            "\u001b[34m\u001b[1m  You can now view your Streamlit app in your browser.\u001b[0m\n",
            "\u001b[0m\n",
            "\u001b[34m  Local URL: \u001b[0m\u001b[1mhttp://localhost:8502\u001b[0m\n",
            "\u001b[34m  Network URL: \u001b[0m\u001b[1mhttp://172.28.0.12:8502\u001b[0m\n",
            "\u001b[34m  External URL: \u001b[0m\u001b[1mhttp://34.169.22.164:8502\u001b[0m\n",
            "\u001b[0m\n"
          ]
        }
      ],
      "source": [
        "!streamlit run app.py\n"
      ]
    }
  ],
  "metadata": {
    "accelerator": "GPU",
    "colab": {
      "gpuType": "T4",
      "provenance": [],
      "mount_file_id": "17SJ5GLaKibES0qu-IQmxh83a5Y5frm6c",
      "authorship_tag": "ABX9TyN2NumI+qzs+3TqA8zLQCNc",
      "include_colab_link": true
    },
    "kernelspec": {
      "display_name": "Python 3",
      "name": "python3"
    },
    "language_info": {
      "name": "python"
    }
  },
  "nbformat": 4,
  "nbformat_minor": 0
}